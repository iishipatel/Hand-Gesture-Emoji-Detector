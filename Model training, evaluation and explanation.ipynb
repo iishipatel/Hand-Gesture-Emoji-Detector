{
  "nbformat": 4,
  "nbformat_minor": 0,
  "metadata": {
    "kernelspec": {
      "language": "python",
      "display_name": "Python 3",
      "name": "python3"
    },
    "language_info": {
      "pygments_lexer": "ipython3",
      "nbconvert_exporter": "python",
      "version": "3.6.4",
      "file_extension": ".py",
      "codemirror_mode": {
        "name": "ipython",
        "version": 3
      },
      "name": "python",
      "mimetype": "text/x-python"
    },
    "colab": {
      "name": "Model Training, evaluation, explanation.ipynb",
      "provenance": [],
      "toc_visible": true,
      "include_colab_link": true
    },
    "accelerator": "GPU"
  },
  "cells": [
    {
      "cell_type": "markdown",
      "metadata": {
        "id": "view-in-github",
        "colab_type": "text"
      },
      "source": [
        "<a href=\"https://colab.research.google.com/github/AnkushMalaker/Hand-Gesture-Emoji-Detector/blob/master/Model%20training%2C%20evaluation%20and%20explanation.ipynb\" target=\"_parent\"><img src=\"https://colab.research.google.com/assets/colab-badge.svg\" alt=\"Open In Colab\"/></a>"
      ]
    },
    {
      "cell_type": "markdown",
      "metadata": {
        "id": "byS8FUIsTRef",
        "colab_type": "text"
      },
      "source": [
        "# Notebook setup"
      ]
    },
    {
      "cell_type": "code",
      "metadata": {
        "id": "BTaRcucSsUT-",
        "colab_type": "code",
        "colab": {}
      },
      "source": [
        "%tensorflow_version 2.x"
      ],
      "execution_count": 0,
      "outputs": []
    },
    {
      "cell_type": "markdown",
      "metadata": {
        "id": "2AyUikcdTfHv",
        "colab_type": "text"
      },
      "source": [
        "## Downloading dataset"
      ]
    },
    {
      "cell_type": "markdown",
      "metadata": {
        "id": "ftmdsGxwTdhG",
        "colab_type": "text"
      },
      "source": [
        "Go to kaggle > account > create API and upload the kaggle.json onto the working directory from the pane on the left. This is required to download datasets using commandline from kaggle"
      ]
    },
    {
      "cell_type": "code",
      "metadata": {
        "id": "lLxoI2DITUCL",
        "colab_type": "code",
        "colab": {}
      },
      "source": [
        "%%bash\n",
        "mkdir ~/.kaggle\n",
        "cp kaggle.json ~/.kaggle/\n",
        "chmod 600 ~/.kaggle/kaggle.json"
      ],
      "execution_count": 0,
      "outputs": []
    },
    {
      "cell_type": "markdown",
      "metadata": {
        "id": "ryI10spvTzbo",
        "colab_type": "text"
      },
      "source": [
        "Initiate dataset donwload"
      ]
    },
    {
      "cell_type": "code",
      "metadata": {
        "id": "8WMY0OMLT1Ju",
        "colab_type": "code",
        "colab": {
          "base_uri": "https://localhost:8080/",
          "height": 68
        },
        "outputId": "c7d7ca84-eb5f-41d4-cb43-163174493821"
      },
      "source": [
        "!kaggle datasets download -d gti-upm/leapgestrecog"
      ],
      "execution_count": 3,
      "outputs": [
        {
          "output_type": "stream",
          "text": [
            "Downloading leapgestrecog.zip to /content\n",
            " 99% 2.12G/2.13G [00:57<00:00, 50.0MB/s]\n",
            "100% 2.13G/2.13G [00:57<00:00, 39.6MB/s]\n"
          ],
          "name": "stdout"
        }
      ]
    },
    {
      "cell_type": "markdown",
      "metadata": {
        "id": "uYSah1AaT25i",
        "colab_type": "text"
      },
      "source": [
        "Unzip into data directory"
      ]
    },
    {
      "cell_type": "code",
      "metadata": {
        "id": "_aKINNM8T4mY",
        "colab_type": "code",
        "colab": {}
      },
      "source": [
        "%%bash\n",
        "rm -rf data\n",
        "mkdir data\n",
        "unzip -q leapgestrecog.zip -d data"
      ],
      "execution_count": 0,
      "outputs": []
    },
    {
      "cell_type": "markdown",
      "metadata": {
        "id": "qZElLmCrUCoH",
        "colab_type": "text"
      },
      "source": [
        "# Imports"
      ]
    },
    {
      "cell_type": "code",
      "metadata": {
        "_uuid": "8f2839f25d086af736a60e9eeb907d3b93b6e0e5",
        "_cell_guid": "b1076dfc-b9ad-4769-8c92-a6c4dae69d19",
        "trusted": true,
        "id": "IjGbI3NVO1sW",
        "colab_type": "code",
        "colab": {}
      },
      "source": [
        "import numpy as np # linear algebra\n",
        "import pandas as pd # data processing, CSV file I/O (e.g. pd.read_csv)\n",
        "import os\n",
        "from tensorflow import keras\n",
        "import tensorflow as tf\n",
        "import matplotlib.pyplot as plt\n",
        "import pandas as pd\n",
        "from PIL import Image\n",
        "from tensorflow.keras.preprocessing.image import ImageDataGenerator"
      ],
      "execution_count": 0,
      "outputs": []
    },
    {
      "cell_type": "markdown",
      "metadata": {
        "id": "ARXXhCJHj7QZ",
        "colab_type": "text"
      },
      "source": [
        "More data preprocessing.  \n",
        "Note: The data loading function is referenced from [here](https://www.kaggle.com/benenharrington/hand-gesture-recognition-database-with-cnn)."
      ]
    },
    {
      "cell_type": "code",
      "metadata": {
        "id": "RRMZHhlOkb38",
        "colab_type": "code",
        "colab": {
          "base_uri": "https://localhost:8080/",
          "height": 187
        },
        "outputId": "a1d0a71c-a5ee-4e50-b2c9-5f6a19b76443"
      },
      "source": [
        "lookup = dict()\n",
        "reverselookup = dict()\n",
        "count = 0\n",
        "for j in os.listdir('data/leapgestrecog/leapGestRecog/00/'):\n",
        "    if not j.startswith('.'): # If running this code locally, this is to \n",
        "                              # ensure you aren't reading in hidden folders\n",
        "        lookup[j] = count\n",
        "        reverselookup[count] = j\n",
        "        count = count + 1\n",
        "lookup"
      ],
      "execution_count": 6,
      "outputs": [
        {
          "output_type": "execute_result",
          "data": {
            "text/plain": [
              "{'01_palm': 1,\n",
              " '02_l': 3,\n",
              " '03_fist': 2,\n",
              " '04_fist_moved': 0,\n",
              " '05_thumb': 5,\n",
              " '06_index': 8,\n",
              " '07_ok': 6,\n",
              " '08_palm_moved': 7,\n",
              " '09_c': 4,\n",
              " '10_down': 9}"
            ]
          },
          "metadata": {
            "tags": []
          },
          "execution_count": 6
        }
      ]
    },
    {
      "cell_type": "code",
      "metadata": {
        "id": "iLCMThJoj5VS",
        "colab_type": "code",
        "colab": {
          "base_uri": "https://localhost:8080/",
          "height": 221
        },
        "outputId": "840405f9-2032-41c2-b44f-bf3892b0d753"
      },
      "source": [
        "x_data = []\n",
        "y_data = []\n",
        "datacount = 0 # We'll use this to tally how many images are in our dataset\n",
        "for i in range(0, 10): # Loop over the ten top-level folders\n",
        "    for j in os.listdir('data/leapgestrecog/leapGestRecog/0' + str(i) + '/'):\n",
        "        if not j.startswith('.'): # Again avoid hidden folders\n",
        "            count = 0 # To tally images of a given gesture\n",
        "            for k in os.listdir('data/leapgestrecog/leapGestRecog/0' + \n",
        "                                str(i) + '/' + j + '/'):\n",
        "                                # Loop over the images\n",
        "                img = Image.open('data/leapgestrecog/leapGestRecog/0' + \n",
        "                                 str(i) + '/' + j + '/' + k).convert('L')\n",
        "                                # Read in and convert to greyscale\n",
        "                img = img.resize((128, 128))\n",
        "                arr = np.array(img)\n",
        "                x_data.append(arr) \n",
        "                count = count + 1\n",
        "            y_values = np.full((count, 1), lookup[j]) \n",
        "            y_data.append(y_values)\n",
        "            datacount = datacount + count\n",
        "    print(\"Processing foler %d out of 10\" %i)\n",
        "x_data = np.array(x_data, dtype = 'float32')\n",
        "y_data = np.array(y_data)\n",
        "y_data = y_data.reshape(datacount, 1) \n",
        "print(\"Features shape: %s\" %str(x_data.shape))\n",
        "print(\"Labels shape: %s\" %str(y_data.shape))"
      ],
      "execution_count": 122,
      "outputs": [
        {
          "output_type": "stream",
          "text": [
            "Processing foler 0 out of 10\n",
            "Processing foler 1 out of 10\n",
            "Processing foler 2 out of 10\n",
            "Processing foler 3 out of 10\n",
            "Processing foler 4 out of 10\n",
            "Processing foler 5 out of 10\n",
            "Processing foler 6 out of 10\n",
            "Processing foler 7 out of 10\n",
            "Processing foler 8 out of 10\n",
            "Processing foler 9 out of 10\n",
            "Features shape: (20000, 128, 128)\n",
            "Labels shape: (20000, 1)\n"
          ],
          "name": "stdout"
        }
      ]
    },
    {
      "cell_type": "code",
      "metadata": {
        "id": "PQfZcbt8m88i",
        "colab_type": "code",
        "colab": {
          "base_uri": "https://localhost:8080/",
          "height": 34
        },
        "outputId": "6085f0ff-4dde-4644-ab15-167044a5ec06"
      },
      "source": [
        "y_onehot = keras.utils.to_categorical(y_data)\n",
        "print(y_onehot.shape)"
      ],
      "execution_count": 31,
      "outputs": [
        {
          "output_type": "stream",
          "text": [
            "(20000, 10)\n"
          ],
          "name": "stdout"
        }
      ]
    },
    {
      "cell_type": "markdown",
      "metadata": {
        "id": "lXQ4ms-nrCLJ",
        "colab_type": "text"
      },
      "source": [
        "# Setup training and testing batches"
      ]
    },
    {
      "cell_type": "code",
      "metadata": {
        "trusted": true,
        "id": "XBIO9ibAO1tm",
        "colab_type": "code",
        "colab": {}
      },
      "source": [
        "train_set_x = tf.data.Dataset.from_tensor_slices(x_data[:-1000,:,:])\n",
        "train_set_y = tf.data.Dataset.from_tensor_slices(y_onehot[:-1000])\n",
        "train_set = tf.data.Dataset.zip((train_set_x, train_set_y)).batch(64).shuffle(20000).cache()\n",
        "test_set_x = tf.data.Dataset.from_tensor_slices(x_data[-1000:,:,:])\n",
        "test_set_y = tf.data.Dataset.from_tensor_slices(y_onehot[-1000:])\n",
        "test_set = tf.data.Dataset.zip((test_set_x, test_set_y)).batch(64).shuffle(20000).cache()"
      ],
      "execution_count": 0,
      "outputs": []
    },
    {
      "cell_type": "markdown",
      "metadata": {
        "id": "C1a8MUTZrJ7b",
        "colab_type": "text"
      },
      "source": [
        "# Function to create model"
      ]
    },
    {
      "cell_type": "code",
      "metadata": {
        "trusted": true,
        "id": "RdCi3zwPO1ty",
        "colab_type": "code",
        "colab": {}
      },
      "source": [
        "def create_model(model_type='max_pool', dropout_rate=0):\n",
        "    if model_type == 'max_pool':\n",
        "        img_input = keras.Input(shape=(128,128,1))\n",
        "\n",
        "        conv1 = keras.layers.Convolution2D(32, (3, 3), activation='relu')(img_input)\n",
        "        mx_pool = keras.layers.MaxPooling2D(pool_size=(2, 2))(conv1)\n",
        "\n",
        "        drop1 = keras.layers.Dropout(dropout_rate)(mx_pool)\n",
        "\n",
        "        conv2 = keras.layers.Convolution2D(32, (3, 3), activation='relu')(drop1)\n",
        "        mx_pool2 = keras.layers.MaxPooling2D(pool_size=(2, 2))(conv2)\n",
        "\n",
        "        drop2 = keras.layers.Dropout(dropout_rate)(mx_pool2)\n",
        "\n",
        "        conv3 = keras.layers.Convolution2D(32, (3, 3), activation='relu')(drop2)\n",
        "        mx_pool3 = keras.layers.MaxPooling2D(pool_size=(2, 2))(conv3)\n",
        "\n",
        "        drop3 = keras.layers.Dropout(dropout_rate)(mx_pool3)\n",
        "\n",
        "        # Flattening the layers\n",
        "        flatten1 = keras.layers.Flatten()(drop3)\n",
        "\n",
        "        # Adding a fully connected layer\n",
        "        dense1 = keras.layers.Dense(units=128, activation='relu',kernel_regularizer=keras.regularizers.l2(0.01))(flatten1)\n",
        "        output_layer = keras.layers.Dense(units=10, activation='softmax')(dense1)\n",
        "\n",
        "        model = keras.Model(inputs=img_input, outputs=output_layer)\n",
        "        return model\n",
        "    else:\n",
        "        img_input = keras.Input(shape=(128,128,1))\n",
        "\n",
        "        conv1 = keras.layers.Convolution2D(32, (3, 3), activation='relu')(img_input)\n",
        "        avg_pool1 = keras.layers.MaxPooling2D(pool_size=(2, 2))(conv1)\n",
        "\n",
        "        conv2 = keras.layers.Convolution2D(32, (3, 3), activation='relu')(avg_pool1)\n",
        "        avg_pool2 = keras.layers.MaxPooling2D(pool_size=(2, 2))(conv2)\n",
        "\n",
        "        conv3 = keras.layers.Convolution2D(32, (3, 3), activation='relu')(avg_pool2)\n",
        "        avg_pool3 = keras.layers.MaxPooling2D(pool_size=(2, 2))(conv3)\n",
        "\n",
        "        flatten1 = keras.layers.Flatten()(avg_pool3)\n",
        "\n",
        "        dense1 = keras.layers.Dense(units=128, activation='relu',kernel_regularizer=keras.regularizers.l2(0.01))(flatten1)\n",
        "        output_layer = keras.layers.Dense(units=10, activation='softmax')(dense1)\n",
        "\n",
        "        model = keras.Model(inputs=img_input, outputs=output_layer)\n",
        "        return model"
      ],
      "execution_count": 0,
      "outputs": []
    },
    {
      "cell_type": "code",
      "metadata": {
        "trusted": true,
        "id": "HinugJ66O1t3",
        "colab_type": "code",
        "colab": {
          "base_uri": "https://localhost:8080/",
          "height": 493
        },
        "outputId": "b6b27cfb-cf4a-4ad4-a558-3a1ee2e79491"
      },
      "source": [
        "model = create_model('avg_pool')\n",
        "model.summary()"
      ],
      "execution_count": 112,
      "outputs": [
        {
          "output_type": "stream",
          "text": [
            "Model: \"model_13\"\n",
            "_________________________________________________________________\n",
            "Layer (type)                 Output Shape              Param #   \n",
            "=================================================================\n",
            "input_14 (InputLayer)        [(None, 128, 128, 1)]     0         \n",
            "_________________________________________________________________\n",
            "conv2d_39 (Conv2D)           (None, 126, 126, 32)      320       \n",
            "_________________________________________________________________\n",
            "max_pooling2d_39 (MaxPooling (None, 63, 63, 32)        0         \n",
            "_________________________________________________________________\n",
            "conv2d_40 (Conv2D)           (None, 61, 61, 32)        9248      \n",
            "_________________________________________________________________\n",
            "max_pooling2d_40 (MaxPooling (None, 30, 30, 32)        0         \n",
            "_________________________________________________________________\n",
            "conv2d_41 (Conv2D)           (None, 28, 28, 32)        9248      \n",
            "_________________________________________________________________\n",
            "max_pooling2d_41 (MaxPooling (None, 14, 14, 32)        0         \n",
            "_________________________________________________________________\n",
            "flatten_13 (Flatten)         (None, 6272)              0         \n",
            "_________________________________________________________________\n",
            "dense_26 (Dense)             (None, 128)               802944    \n",
            "_________________________________________________________________\n",
            "dense_27 (Dense)             (None, 10)                1290      \n",
            "=================================================================\n",
            "Total params: 823,050\n",
            "Trainable params: 823,050\n",
            "Non-trainable params: 0\n",
            "_________________________________________________________________\n"
          ],
          "name": "stdout"
        }
      ]
    },
    {
      "cell_type": "code",
      "metadata": {
        "id": "V3rF8kJGSIo4",
        "colab_type": "code",
        "colab": {}
      },
      "source": [
        "lr_schedule = tf.keras.optimizers.schedules.InverseTimeDecay(\n",
        "  0.001,\n",
        "  decay_steps=1000,\n",
        "  decay_rate=1,\n",
        "  staircase=False)\n",
        "opt = tf.keras.optimizers.Adam(lr_schedule)\n",
        "\n",
        "model.compile(optimizer=opt, loss=keras.losses.categorical_crossentropy, metrics=['accuracy'])\n"
      ],
      "execution_count": 0,
      "outputs": []
    },
    {
      "cell_type": "markdown",
      "metadata": {
        "id": "cNmLK1Fnt4gH",
        "colab_type": "text"
      },
      "source": [
        "# Callbacks for early stopping"
      ]
    },
    {
      "cell_type": "code",
      "metadata": {
        "id": "OLZZyJGQuSKz",
        "colab_type": "code",
        "colab": {}
      },
      "source": [
        "es_callback = [\n",
        "    tf.keras.callbacks.EarlyStopping(\n",
        "    monitor=\"val_accuracy\",\n",
        "    min_delta=0.01,\n",
        "    patience=5,\n",
        "    verbose=1,\n",
        "    mode=\"auto\",\n",
        "    restore_best_weights=True\n",
        ")\n",
        "]\n",
        "# \"wait for 5 epochs, check if the val_accuracy increases by 0.01, if not, stop and restore the weights that give best val_accuracy\""
      ],
      "execution_count": 0,
      "outputs": []
    },
    {
      "cell_type": "markdown",
      "metadata": {
        "id": "Um6f2IAMvWMi",
        "colab_type": "text"
      },
      "source": [
        "# Train model and plot history"
      ]
    },
    {
      "cell_type": "code",
      "metadata": {
        "id": "T5eujcTrhUjV",
        "colab_type": "code",
        "colab": {
          "base_uri": "https://localhost:8080/",
          "height": 326
        },
        "outputId": "d942cbb8-c589-47e4-f82c-b8c6e7ea1883"
      },
      "source": [
        "history = model.fit(train_set,epochs=10,verbose=1,validation_data=test_set,callbacks=es_callback)"
      ],
      "execution_count": 117,
      "outputs": [
        {
          "output_type": "stream",
          "text": [
            "Epoch 1/10\n",
            "  1/297 [..............................] - ETA: 0s - loss: 0.7246 - accuracy: 1.0000WARNING:tensorflow:Callbacks method `on_train_batch_end` is slow compared to the batch time. Check your callbacks.\n",
            "297/297 [==============================] - 10s 33ms/step - loss: 0.6478 - accuracy: 0.9719 - val_loss: 0.7176 - val_accuracy: 0.8650\n",
            "Epoch 2/10\n",
            "297/297 [==============================] - 10s 33ms/step - loss: 0.4103 - accuracy: 0.9986 - val_loss: 0.3977 - val_accuracy: 0.9960\n",
            "Epoch 3/10\n",
            "297/297 [==============================] - 10s 33ms/step - loss: 0.3000 - accuracy: 0.9998 - val_loss: 0.3085 - val_accuracy: 0.9880\n",
            "Epoch 4/10\n",
            "297/297 [==============================] - 10s 32ms/step - loss: 0.2340 - accuracy: 0.9995 - val_loss: 0.2963 - val_accuracy: 0.9780\n",
            "Epoch 5/10\n",
            "297/297 [==============================] - 10s 32ms/step - loss: 0.4766 - accuracy: 0.9326 - val_loss: 0.3241 - val_accuracy: 0.9920\n",
            "Epoch 6/10\n",
            "297/297 [==============================] - 10s 32ms/step - loss: 0.2320 - accuracy: 0.9991 - val_loss: 0.2358 - val_accuracy: 0.9920\n",
            "Epoch 7/10\n",
            "297/297 [==============================] - ETA: 0s - loss: 0.1813 - accuracy: 0.9998Restoring model weights from the end of the best epoch.\n",
            "297/297 [==============================] - 10s 32ms/step - loss: 0.1813 - accuracy: 0.9998 - val_loss: 0.1939 - val_accuracy: 0.9910\n",
            "Epoch 00007: early stopping\n"
          ],
          "name": "stdout"
        }
      ]
    },
    {
      "cell_type": "code",
      "metadata": {
        "id": "4UxgAcR0tLUF",
        "colab_type": "code",
        "colab": {
          "base_uri": "https://localhost:8080/",
          "height": 51
        },
        "outputId": "d1c64ac3-49ef-4394-ad70-f0e1c85c9848"
      },
      "source": [
        "model.evaluate(test_set)"
      ],
      "execution_count": 118,
      "outputs": [
        {
          "output_type": "stream",
          "text": [
            "16/16 [==============================] - 0s 13ms/step - loss: 0.3977 - accuracy: 0.9960\n"
          ],
          "name": "stdout"
        },
        {
          "output_type": "execute_result",
          "data": {
            "text/plain": [
              "[0.397713303565979, 0.9959999918937683]"
            ]
          },
          "metadata": {
            "tags": []
          },
          "execution_count": 118
        }
      ]
    },
    {
      "cell_type": "code",
      "metadata": {
        "id": "TG5DyWB2pAhk",
        "colab_type": "code",
        "colab": {
          "base_uri": "https://localhost:8080/",
          "height": 265
        },
        "outputId": "5de29f51-6cda-4a36-f7b3-9bc7518682de"
      },
      "source": [
        "fig = plt.figure()\n",
        "plt.plot(history.epoch,  history.history['loss'] ,label='Train', color='green')\n",
        "plt.plot(history.epoch,  history.history['val_loss'] ,label='test', color='red')\n",
        "plt.legend()\n",
        "plt.show()"
      ],
      "execution_count": 119,
      "outputs": [
        {
          "output_type": "display_data",
          "data": {
            "image/png": "[encoded data removed]",
            "text/plain": [
              "<Figure size 432x288 with 1 Axes>"
            ]
          },
          "metadata": {
            "tags": [],
            "needs_background": "light"
          }
        }
      ]
    },
    {
      "cell_type": "code",
      "metadata": {
        "id": "SVqIDAn1p81S",
        "colab_type": "code",
        "colab": {
          "base_uri": "https://localhost:8080/",
          "height": 265
        },
        "outputId": "3fa6861b-1f78-47e2-c38c-47e73dce7bcf"
      },
      "source": [
        "fig = plt.figure()\n",
        "plt.plot(history.epoch,  history.history['accuracy'] ,label='Train', color='green')\n",
        "plt.plot(history.epoch,  history.history['val_accuracy'] ,label='test', color='red')\n",
        "plt.legend()\n",
        "plt.show()"
      ],
      "execution_count": 120,
      "outputs": [
        {
          "output_type": "display_data",
          "data": {
            "image/png": "[encoded data removed]",
            "text/plain": [
              "<Figure size 432x288 with 1 Axes>"
            ]
          },
          "metadata": {
            "tags": [],
            "needs_background": "light"
          }
        }
      ]
    },
    {
      "cell_type": "markdown",
      "metadata": {
        "id": "ee2dPKHGy9e2",
        "colab_type": "text"
      },
      "source": [
        "# Save Model"
      ]
    },
    {
      "cell_type": "code",
      "metadata": {
        "id": "15n4DP54yw9k",
        "colab_type": "code",
        "colab": {}
      },
      "source": [
        "model_json = model.to_json()\n",
        "with open(\"modelHand.json\", \"w\") as json_file:\n",
        "    json_file.write(model_json)\n",
        "model.save_weights('modelHand.h5')"
      ],
      "execution_count": 0,
      "outputs": []
    },
    {
      "cell_type": "code",
      "metadata": {
        "id": "Y8A-CGYDy64A",
        "colab_type": "code",
        "colab": {}
      },
      "source": [
        ""
      ],
      "execution_count": 0,
      "outputs": []
    }
  ]
}